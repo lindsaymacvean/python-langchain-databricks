{
 "cells": [
  {
   "cell_type": "markdown",
   "metadata": {},
   "source": [
    "This is an example notebook to run a simple ETL from an example.csv to a vector database"
   ]
  },
  {
   "cell_type": "code",
   "execution_count": 1,
   "metadata": {},
   "outputs": [
    {
     "data": {
      "text/html": [
       "<div>\n",
       "<style scoped>\n",
       "    .dataframe tbody tr th:only-of-type {\n",
       "        vertical-align: middle;\n",
       "    }\n",
       "\n",
       "    .dataframe tbody tr th {\n",
       "        vertical-align: top;\n",
       "    }\n",
       "\n",
       "    .dataframe thead th {\n",
       "        text-align: right;\n",
       "    }\n",
       "</style>\n",
       "<table border=\"1\" class=\"dataframe\">\n",
       "  <thead>\n",
       "    <tr style=\"text-align: right;\">\n",
       "      <th></th>\n",
       "      <th>id</th>\n",
       "      <th>title</th>\n",
       "      <th>summary</th>\n",
       "    </tr>\n",
       "  </thead>\n",
       "  <tbody>\n",
       "    <tr>\n",
       "      <th>0</th>\n",
       "      <td>1</td>\n",
       "      <td>Study on Diabetes</td>\n",
       "      <td>A randomized controlled trial to study the eff...</td>\n",
       "    </tr>\n",
       "    <tr>\n",
       "      <th>1</th>\n",
       "      <td>2</td>\n",
       "      <td>Cancer Immunotherapy</td>\n",
       "      <td>Examining T-cell response in patients treated ...</td>\n",
       "    </tr>\n",
       "    <tr>\n",
       "      <th>2</th>\n",
       "      <td>3</td>\n",
       "      <td>Parkinson's Disease</td>\n",
       "      <td>Early detection using gait analysis and neural...</td>\n",
       "    </tr>\n",
       "    <tr>\n",
       "      <th>3</th>\n",
       "      <td>4</td>\n",
       "      <td>COVID-19 Vaccine</td>\n",
       "      <td>Study on vaccine efficacy against emerging SAR...</td>\n",
       "    </tr>\n",
       "    <tr>\n",
       "      <th>4</th>\n",
       "      <td>5</td>\n",
       "      <td>Alzheimer's Trial</td>\n",
       "      <td>Testing the efficacy of amyloid-beta targeting...</td>\n",
       "    </tr>\n",
       "  </tbody>\n",
       "</table>\n",
       "</div>"
      ],
      "text/plain": [
       "   id                 title                                            summary\n",
       "0   1     Study on Diabetes  A randomized controlled trial to study the eff...\n",
       "1   2  Cancer Immunotherapy  Examining T-cell response in patients treated ...\n",
       "2   3   Parkinson's Disease  Early detection using gait analysis and neural...\n",
       "3   4      COVID-19 Vaccine  Study on vaccine efficacy against emerging SAR...\n",
       "4   5     Alzheimer's Trial  Testing the efficacy of amyloid-beta targeting..."
      ]
     },
     "execution_count": 1,
     "metadata": {},
     "output_type": "execute_result"
    }
   ],
   "source": [
    "import pandas as pd\n",
    "\n",
    "df = pd.read_csv(\"example.csv\")\n",
    "df.head()"
   ]
  },
  {
   "cell_type": "markdown",
   "metadata": {},
   "source": [
    "1. Load the data with langchain"
   ]
  },
  {
   "cell_type": "code",
   "execution_count": 3,
   "metadata": {},
   "outputs": [
    {
     "data": {
      "text/plain": [
       "[Document(metadata={'source': 'example.csv', 'row': 0}, page_content='id: 1\\ntitle: Study on Diabetes\\nsummary: A randomized controlled trial to study the effects of Metformin on blood sugar regulation.'),\n",
       " Document(metadata={'source': 'example.csv', 'row': 1}, page_content='id: 2\\ntitle: Cancer Immunotherapy\\nsummary: Examining T-cell response in patients treated with checkpoint inhibitors.'),\n",
       " Document(metadata={'source': 'example.csv', 'row': 2}, page_content=\"id: 3\\ntitle: Parkinson's Disease\\nsummary: Early detection using gait analysis and neural biomarkers.\")]"
      ]
     },
     "execution_count": 3,
     "metadata": {},
     "output_type": "execute_result"
    }
   ],
   "source": [
    "from langchain.embeddings import HuggingFaceEmbeddings\n",
    "from langchain.vectorstores import FAISS\n",
    "from langchain.document_loaders import CSVLoader\n",
    "\n",
    "# Load CSV\n",
    "loader = CSVLoader(file_path=\"example.csv\")\n",
    "docs = loader.load()\n",
    "\n",
    "docs[:3]  # Show first 3 documents"
   ]
  },
  {
   "cell_type": "markdown",
   "metadata": {},
   "source": [
    "2. Embed the datasource into a model (a free one here, in production we would use a more sophisticated model). "
   ]
  },
  {
   "cell_type": "code",
   "execution_count": null,
   "metadata": {},
   "outputs": [
    {
     "name": "stderr",
     "output_type": "stream",
     "text": [
      "/Users/lindsaymacvean/Workarea/python-langchain-databricks/.venv/lib/python3.11/site-packages/tqdm/auto.py:21: TqdmWarning: IProgress not found. Please update jupyter and ipywidgets. See https://ipywidgets.readthedocs.io/en/stable/user_install.html\n",
      "  from .autonotebook import tqdm as notebook_tqdm\n"
     ]
    }
   ],
   "source": [
    "# Create embeddings\n",
    "embedding_model = HuggingFaceEmbeddings(model_name=\"all-MiniLM-L6-v2\")"
   ]
  },
  {
   "cell_type": "markdown",
   "metadata": {},
   "source": [
    "3. Store the embedded vector representations in a vector index (FAISS). "
   ]
  },
  {
   "cell_type": "code",
   "execution_count": 7,
   "metadata": {},
   "outputs": [],
   "source": [
    "# Vector store\n",
    "db = FAISS.from_documents(docs, embedding_model)\n",
    "\n",
    "# Save index\n",
    "db.save_local(\"faiss_index\")"
   ]
  },
  {
   "cell_type": "markdown",
   "metadata": {},
   "source": [
    "We can now run the lambda function to do RAG using the FAISS index for augmentation"
   ]
  }
 ],
 "metadata": {
  "kernelspec": {
   "display_name": ".venv",
   "language": "python",
   "name": "python3"
  },
  "language_info": {
   "codemirror_mode": {
    "name": "ipython",
    "version": 3
   },
   "file_extension": ".py",
   "mimetype": "text/x-python",
   "name": "python",
   "nbconvert_exporter": "python",
   "pygments_lexer": "ipython3",
   "version": "3.11.7"
  }
 },
 "nbformat": 4,
 "nbformat_minor": 2
}
